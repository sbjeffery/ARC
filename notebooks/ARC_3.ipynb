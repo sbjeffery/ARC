{
 "cells": [
  {
   "cell_type": "code",
   "execution_count": 1,
   "metadata": {},
   "outputs": [],
   "source": [
    "# .. and they went into the ARC in threes..\n",
    "# arc problem 36d67576"
   ]
  },
  {
   "cell_type": "code",
   "execution_count": 2,
   "metadata": {},
   "outputs": [
    {
     "name": "stdout",
     "output_type": "stream",
     "text": [
      "['/home/sjeffery/Documents/arc/ARC/src', '/home/sjeffery/Documents/arc/ARC/data', '/home/sjeffery/anaconda3/lib/python37.zip', '/home/sjeffery/anaconda3/lib/python3.7', '/home/sjeffery/anaconda3/lib/python3.7/lib-dynload', '', '/home/sjeffery/anaconda3/lib/python3.7/site-packages', '/home/sjeffery/anaconda3/lib/python3.7/site-packages/IPython/extensions', '/home/sjeffery/.ipython']\n"
     ]
    }
   ],
   "source": [
    "%matplotlib inline\n",
    "import sys\n",
    "import os\n",
    "\n",
    "# imports from other file.\n",
    "import json\n",
    "import numpy as np\n",
    "import re\n",
    "\n",
    "import numpy as np\n",
    "import matplotlib.pyplot as plt\n",
    "\n",
    "# https://scikit-image.org/docs/stable/user_guide/getting_started.html\n",
    "import skimage\n",
    "from skimage.transform import matrix_transform, SimilarityTransform, rotate, AffineTransform\n",
    "from skimage.morphology import rectangle, flood_fill\n",
    "\n",
    "# https://stackoverflow.com/questions/49264194/import-py-file-in-another-directory-in-jupyter-notebook\n",
    "sys.path.insert(0, '/home/sjeffery/Documents/arc/ARC/src')\n",
    "print (sys.path)\n",
    "import manual_solve as arc"
   ]
  },
  {
   "cell_type": "code",
   "execution_count": 3,
   "metadata": {},
   "outputs": [],
   "source": [
    "# Utility fn for file reading only.\n",
    "\n",
    "def read_arc(data):\n",
    "    # Extract the train/test input/output grids. Each grid will be a\n",
    "    # list of lists of ints. We convert to Numpy.\n",
    "    train_input = [np.array(data['train'][i]['input']) for i in range(len(data['train']))]\n",
    "    train_output = [np.array(data['train'][i]['output']) for i in range(len(data['train']))]\n",
    "    test_input = [np.array(data['test'][i]['input']) for i in range(len(data['test']))]\n",
    "    test_output = [np.array(data['test'][i]['output']) for i in range(len(data['test']))]\n",
    "\n",
    "    return (train_input, train_output, test_input, test_output)"
   ]
  },
  {
   "cell_type": "code",
   "execution_count": 4,
   "metadata": {},
   "outputs": [
    {
     "name": "stdout",
     "output_type": "stream",
     "text": [
      "/home/sjeffery/Documents/arc/ARC/data/training\n"
     ]
    }
   ],
   "source": [
    "PATH = r'/home/sjeffery/Documents/arc/ARC/data/training/'\n",
    "%cd /home/sjeffery/Documents/arc/ARC/data/training/\n",
    "arc_file = '36d67576.json'"
   ]
  },
  {
   "cell_type": "code",
   "execution_count": 5,
   "metadata": {},
   "outputs": [],
   "source": [
    "ID = '36d67576'\n",
    "# directory = os.path.join(\"..\", \"data\", \"training\")\n",
    "json_filename = os.path.join(PATH, ID + \".json\")\n",
    "data = arc.read_ARC_JSON(json_filename)\n",
    "\n",
    "train_input, train_output, test_input, test_output = data"
   ]
  },
  {
   "cell_type": "code",
   "execution_count": 6,
   "metadata": {},
   "outputs": [
    {
     "data": {
      "text/plain": [
       "array([[0, 0, 0, 0, 0, 0, 0, 0, 0, 0, 0, 0, 0, 0, 0],\n",
       "       [0, 0, 0, 0, 0, 0, 0, 0, 0, 0, 0, 0, 0, 0, 0],\n",
       "       [0, 0, 1, 3, 0, 0, 0, 0, 0, 0, 0, 0, 0, 0, 0],\n",
       "       [0, 0, 4, 4, 2, 0, 0, 0, 0, 0, 0, 4, 4, 0, 0],\n",
       "       [0, 0, 4, 0, 4, 3, 0, 0, 0, 0, 4, 0, 4, 0, 0],\n",
       "       [0, 0, 0, 4, 4, 1, 0, 0, 0, 0, 4, 4, 2, 0, 0],\n",
       "       [0, 0, 0, 0, 0, 0, 0, 0, 0, 0, 0, 0, 0, 0, 0],\n",
       "       [0, 0, 0, 0, 0, 0, 0, 0, 0, 0, 0, 0, 0, 0, 0],\n",
       "       [0, 0, 0, 0, 0, 0, 0, 0, 0, 0, 0, 0, 0, 0, 0],\n",
       "       [0, 4, 4, 0, 0, 0, 0, 0, 2, 4, 4, 0, 0, 0, 0],\n",
       "       [0, 4, 0, 4, 0, 0, 0, 0, 4, 0, 4, 0, 0, 0, 0],\n",
       "       [0, 2, 4, 4, 0, 0, 0, 0, 4, 4, 0, 0, 0, 0, 0],\n",
       "       [0, 0, 0, 0, 0, 0, 0, 0, 0, 0, 0, 0, 0, 0, 0],\n",
       "       [0, 0, 0, 0, 0, 0, 0, 0, 0, 0, 0, 0, 0, 0, 0]])"
      ]
     },
     "execution_count": 6,
     "metadata": {},
     "output_type": "execute_result"
    }
   ],
   "source": [
    "test_input[0]"
   ]
  },
  {
   "cell_type": "code",
   "execution_count": 7,
   "metadata": {},
   "outputs": [
    {
     "data": {
      "text/plain": [
       "<matplotlib.image.AxesImage at 0x7f554e80be50>"
      ]
     },
     "execution_count": 7,
     "metadata": {},
     "output_type": "execute_result"
    },
    {
     "data": {
      "image/png": "[encoded data removed]",
      "text/plain": [
       "<Figure size 432x288 with 1 Axes>"
      ]
     },
     "metadata": {
      "needs_background": "light"
     },
     "output_type": "display_data"
    },
    {
     "data": {
      "image/png": "[encoded data removed]",
      "text/plain": [
       "<Figure size 432x288 with 1 Axes>"
      ]
     },
     "metadata": {
      "needs_background": "light"
     },
     "output_type": "display_data"
    },
    {
     "data": {
      "image/png": "[encoded data removed]",
      "text/plain": [
       "<Figure size 432x288 with 1 Axes>"
      ]
     },
     "metadata": {
      "needs_background": "light"
     },
     "output_type": "display_data"
    },
    {
     "data": {
      "image/png": "[encoded data removed]",
      "text/plain": [
       "<Figure size 432x288 with 1 Axes>"
      ]
     },
     "metadata": {
      "needs_background": "light"
     },
     "output_type": "display_data"
    }
   ],
   "source": [
    "# Set the colors for the color map and plot the grid.\n",
    "\n",
    "from matplotlib import colors\n",
    "cmap = colors.ListedColormap(['k','b','r','g','y'])\n",
    "\n",
    "def plot_array (A):\n",
    "    \n",
    "    if len(A) == 1:\n",
    "        plt.figure()\n",
    "        plt.imshow(A, cmap = cmap)\n",
    "    \n",
    "    else:\n",
    "        for t_ in range (len(A)):\n",
    "            plt.figure(t_)\n",
    "            plt.imshow(A[t_], cmap = cmap)\n",
    "        \n",
    "plot_array (train_input)\n",
    "\n",
    "plt.figure()\n",
    "plt.imshow(test_input[0], cmap = cmap)"
   ]
  },
  {
   "cell_type": "code",
   "execution_count": 8,
   "metadata": {},
   "outputs": [
    {
     "data": {
      "text/plain": [
       "<matplotlib.image.AxesImage at 0x7f554e7c1f10>"
      ]
     },
     "execution_count": 8,
     "metadata": {},
     "output_type": "execute_result"
    },
    {
     "data": {
      "image/png": "[encoded data removed]",
      "text/plain": [
       "<Figure size 432x288 with 1 Axes>"
      ]
     },
     "metadata": {
      "needs_background": "light"
     },
     "output_type": "display_data"
    },
    {
     "data": {
      "image/png": "[encoded data removed]",
      "text/plain": [
       "<Figure size 432x288 with 1 Axes>"
      ]
     },
     "metadata": {
      "needs_background": "light"
     },
     "output_type": "display_data"
    },
    {
     "data": {
      "image/png": "[encoded data removed]",
      "text/plain": [
       "<Figure size 432x288 with 1 Axes>"
      ]
     },
     "metadata": {
      "needs_background": "light"
     },
     "output_type": "display_data"
    },
    {
     "data": {
      "image/png": "[encoded data removed]",
      "text/plain": [
       "<Figure size 432x288 with 1 Axes>"
      ]
     },
     "metadata": {
      "needs_background": "light"
     },
     "output_type": "display_data"
    }
   ],
   "source": [
    "plot_array(train_output)\n",
    "\n",
    "plt.figure()\n",
    "plt.imshow(test_output[0], cmap = cmap)"
   ]
  },
  {
   "cell_type": "markdown",
   "metadata": {},
   "source": [
    "# Run Code to here to import the data arrays."
   ]
  },
  {
   "cell_type": "code",
   "execution_count": 139,
   "metadata": {},
   "outputs": [],
   "source": [
    "# test for similarity transform.\n",
    "\n",
    "tform_translate = SimilarityTransform(translation=(1, 1))"
   ]
  },
  {
   "cell_type": "code",
   "execution_count": 140,
   "metadata": {},
   "outputs": [
    {
     "data": {
      "text/plain": [
       "<SimilarityTransform(matrix=\n",
       "    [[ 1., -0.,  1.],\n",
       "     [ 0.,  1.,  1.],\n",
       "     [ 0.,  0.,  1.]]) at 0x7f70aa1e97d0>"
      ]
     },
     "execution_count": 140,
     "metadata": {},
     "output_type": "execute_result"
    }
   ],
   "source": [
    "# output is the affine transformation matrix.\n",
    "tform_translate"
   ]
  },
  {
   "cell_type": "code",
   "execution_count": 141,
   "metadata": {},
   "outputs": [
    {
     "data": {
      "text/plain": [
       "array([[0, 0, 0, 0, 0, 0, 0, 0, 0, 0, 0, 0, 0],\n",
       "       [0, 0, 1, 0, 1, 2, 0, 0, 0, 0, 0, 0, 0],\n",
       "       [0, 4, 4, 4, 4, 4, 0, 0, 0, 0, 4, 0, 0],\n",
       "       [0, 3, 0, 3, 0, 3, 0, 0, 0, 0, 4, 0, 0],\n",
       "       [0, 0, 0, 0, 0, 0, 0, 0, 0, 0, 4, 0, 0],\n",
       "       [0, 0, 0, 0, 0, 0, 0, 0, 0, 0, 4, 0, 0],\n",
       "       [0, 0, 0, 0, 0, 0, 0, 0, 0, 0, 4, 2, 0],\n",
       "       [0, 0, 0, 0, 0, 0, 0, 0, 0, 0, 0, 0, 0],\n",
       "       [0, 0, 0, 4, 4, 4, 4, 4, 0, 0, 0, 0, 0],\n",
       "       [0, 0, 0, 2, 0, 0, 0, 0, 0, 0, 0, 0, 0],\n",
       "       [0, 0, 0, 0, 0, 0, 0, 0, 0, 0, 0, 0, 0],\n",
       "       [0, 0, 0, 0, 0, 0, 0, 0, 0, 0, 0, 0, 0],\n",
       "       [0, 0, 0, 0, 0, 0, 0, 0, 0, 0, 0, 0, 0]])"
      ]
     },
     "execution_count": 141,
     "metadata": {},
     "output_type": "execute_result"
    }
   ],
   "source": [
    "# inspect the input array.\n",
    "train_input[0]"
   ]
  },
  {
   "cell_type": "code",
   "execution_count": 142,
   "metadata": {},
   "outputs": [],
   "source": [
    "# make an empty target array.\n",
    "target = np.zeros_like(train_input[0])"
   ]
  },
  {
   "cell_type": "code",
   "execution_count": 143,
   "metadata": {},
   "outputs": [
    {
     "data": {
      "text/plain": [
       "array([[0, 0, 0, 0, 0, 0, 0],\n",
       "       [0, 0, 1, 0, 1, 2, 0],\n",
       "       [0, 4, 4, 4, 4, 4, 0],\n",
       "       [0, 3, 0, 3, 0, 3, 0],\n",
       "       [0, 0, 0, 0, 0, 0, 0]])"
      ]
     },
     "execution_count": 143,
     "metadata": {},
     "output_type": "execute_result"
    }
   ],
   "source": [
    "# look at a single pattern \n",
    "pattern = train_input[0][:5,:7]\n",
    "pattern"
   ]
  },
  {
   "cell_type": "code",
   "execution_count": 144,
   "metadata": {},
   "outputs": [
    {
     "name": "stdout",
     "output_type": "stream",
     "text": [
      " 0, (2, 1, 1 )\n",
      " 1, (4, 1, 1 )\n",
      " 2, (5, 1, 2 )\n",
      " 3, (1, 2, 4 )\n",
      " 4, (2, 2, 4 )\n",
      " 5, (3, 2, 4 )\n",
      " 6, (4, 2, 4 )\n",
      " 7, (5, 2, 4 )\n",
      " 8, (10, 2, 4 )\n",
      " 9, (1, 3, 3 )\n",
      " 10, (3, 3, 3 )\n",
      " 11, (5, 3, 3 )\n",
      " 12, (10, 3, 4 )\n",
      " 13, (10, 4, 4 )\n",
      " 14, (10, 5, 4 )\n",
      " 15, (10, 6, 4 )\n",
      " 16, (11, 6, 2 )\n",
      " 17, (3, 8, 4 )\n",
      " 18, (4, 8, 4 )\n",
      " 19, (5, 8, 4 )\n",
      " 20, (6, 8, 4 )\n",
      " 21, (7, 8, 4 )\n",
      " 22, (3, 9, 2 )\n"
     ]
    },
    {
     "data": {
      "text/plain": [
       "(array([[ 2,  1],\n",
       "        [ 4,  1],\n",
       "        [ 5,  1],\n",
       "        [ 1,  2],\n",
       "        [ 2,  2],\n",
       "        [ 3,  2],\n",
       "        [ 4,  2],\n",
       "        [ 5,  2],\n",
       "        [10,  2],\n",
       "        [ 1,  3],\n",
       "        [ 3,  3],\n",
       "        [ 5,  3],\n",
       "        [10,  3],\n",
       "        [10,  4],\n",
       "        [10,  5],\n",
       "        [10,  6],\n",
       "        [11,  6],\n",
       "        [ 3,  8],\n",
       "        [ 4,  8],\n",
       "        [ 5,  8],\n",
       "        [ 6,  8],\n",
       "        [ 7,  8],\n",
       "        [ 3,  9]]),\n",
       " array([[ 1., 10.,  1.],\n",
       "        [ 1.,  8.,  1.],\n",
       "        [ 1.,  7.,  2.],\n",
       "        [ 2., 11.,  4.],\n",
       "        [ 2., 10.,  4.],\n",
       "        [ 2.,  9.,  4.],\n",
       "        [ 2.,  8.,  4.],\n",
       "        [ 2.,  7.,  4.],\n",
       "        [ 2.,  2.,  4.],\n",
       "        [ 3., 11.,  3.],\n",
       "        [ 3.,  9.,  3.],\n",
       "        [ 3.,  7.,  3.],\n",
       "        [ 3.,  2.,  4.],\n",
       "        [ 4.,  2.,  4.],\n",
       "        [ 5.,  2.,  4.],\n",
       "        [ 6.,  2.,  4.],\n",
       "        [ 6.,  1.,  2.],\n",
       "        [ 8.,  9.,  4.],\n",
       "        [ 8.,  8.,  4.],\n",
       "        [ 8.,  7.,  4.],\n",
       "        [ 8.,  6.,  4.],\n",
       "        [ 8.,  5.,  4.],\n",
       "        [ 9.,  9.,  2.]]))"
      ]
     },
     "execution_count": 144,
     "metadata": {},
     "output_type": "execute_result"
    }
   ],
   "source": [
    "# Every array has a number of pixels often grouped into a shape and with colors.\n",
    "# Here we  only have one shape in the training image to find.\n",
    "# we want the coordinates of all the non-zero pixels.\n",
    "\n",
    "def get_coords (A):\n",
    "    \"\"\" \n",
    "    takes the array with a grid of color values.\n",
    "    get coordinates(x, y), with (0,0) in top left of arrary as (row, col)\n",
    "    returns array of (r,c) points and array of (x,y, color) points where color is a integer from 0 to 9.\n",
    "    \"\"\"\n",
    "    rc_coords = np.flip(np.column_stack(np.where(A > 0)), axis = 1) # the array of points (r,c)\n",
    "    rows, cols = A.shape[0], A.shape[1] # get size of the main training area\n",
    "    \n",
    "    n_points = rc_coords.shape[0]  # number of non zero points\n",
    "    points = np.zeros((n_points, 3)) # new array to hold the tranformed points in x,y,color format\n",
    "    \n",
    "    for p in range(n_points):\n",
    "        points[p][0] = rc_coords[p][1]  # x = col\n",
    "        points[p][1] = rows -1 - rc_coords[p][0] # y = nrows - 1 - row\n",
    "        points[p][2] = A[rc_coords[p][1], rc_coords[p][0]] # the color value at (x,y) = (c,r)\n",
    "        print (f' {p}, ({rc_coords[p][0]}, {rc_coords[p][1]}, {A[rc_coords[p][1], rc_coords[p][0]]} )')\n",
    "        \n",
    "    return (rc_coords, points)\n",
    "\n",
    "rc_coords, points = get_coords (train_input[0])\n",
    "rc_coords, points"
   ]
  },
  {
   "cell_type": "code",
   "execution_count": 145,
   "metadata": {},
   "outputs": [
    {
     "data": {
      "text/plain": [
       "(array([1, 1, 1, 2, 2, 2, 2, 2, 2, 3, 3, 3, 3, 4, 5, 6, 6, 8, 8, 8, 8, 8,\n",
       "        9]),\n",
       " array([ 2,  4,  5,  1,  2,  3,  4,  5, 10,  1,  3,  5, 10, 10, 10, 10, 11,\n",
       "         3,  4,  5,  6,  7,  3]))"
      ]
     },
     "execution_count": 145,
     "metadata": {},
     "output_type": "execute_result"
    }
   ],
   "source": [
    "# this gets the coodinates of all the non-zero regions.\n",
    "np.nonzero(train_input[0]>0)\n",
    "#skimage.measure.label(train_input[0]) # mark the regions"
   ]
  },
  {
   "cell_type": "code",
   "execution_count": 146,
   "metadata": {},
   "outputs": [
    {
     "data": {
      "text/plain": [
       "(array([[0, 0, 0, 0, 0, 0, 0, 0, 0, 0, 0, 0, 0],\n",
       "        [0, 0, 1, 0, 1, 1, 0, 0, 0, 0, 0, 0, 0],\n",
       "        [0, 1, 1, 1, 1, 1, 0, 0, 0, 0, 2, 0, 0],\n",
       "        [0, 1, 0, 1, 0, 1, 0, 0, 0, 0, 2, 0, 0],\n",
       "        [0, 0, 0, 0, 0, 0, 0, 0, 0, 0, 2, 0, 0],\n",
       "        [0, 0, 0, 0, 0, 0, 0, 0, 0, 0, 2, 0, 0],\n",
       "        [0, 0, 0, 0, 0, 0, 0, 0, 0, 0, 2, 2, 0],\n",
       "        [0, 0, 0, 0, 0, 0, 0, 0, 0, 0, 0, 0, 0],\n",
       "        [0, 0, 0, 3, 3, 3, 3, 3, 0, 0, 0, 0, 0],\n",
       "        [0, 0, 0, 3, 0, 0, 0, 0, 0, 0, 0, 0, 0],\n",
       "        [0, 0, 0, 0, 0, 0, 0, 0, 0, 0, 0, 0, 0],\n",
       "        [0, 0, 0, 0, 0, 0, 0, 0, 0, 0, 0, 0, 0],\n",
       "        [0, 0, 0, 0, 0, 0, 0, 0, 0, 0, 0, 0, 0]]),\n",
       " 3)"
      ]
     },
     "execution_count": 146,
     "metadata": {},
     "output_type": "execute_result"
    }
   ],
   "source": [
    "# get_regions\n",
    "# here's an array of all one color with the individual regions.\n",
    "mono = (train_input[0] > 0) * np.ones_like(train_input[0])\n",
    "regions, n_regions = skimage.measure.label(mono, return_num = True) # mark the regions\n",
    "regions, n_regions"
   ]
  },
  {
   "cell_type": "code",
   "execution_count": 147,
   "metadata": {},
   "outputs": [],
   "source": [
    "# get the cordinates of each region.\n",
    "r,c = np.nonzero(regions == 1) # region 1"
   ]
  },
  {
   "cell_type": "code",
   "execution_count": 148,
   "metadata": {},
   "outputs": [],
   "source": [
    "# How many points are in each region, the largest region is the pattern.\n",
    "region_coords = []\n",
    "n_region_pts = []\n",
    "\n",
    "for region in range (n_regions):\n",
    "    r,c = np.nonzero(regions == region+1)\n",
    "    coords = list(zip(r, c))\n",
    "    region_coords.append(coords) # is a list of tuples.\n",
    "    n_region_pts.append ((region+1, len (coords)))"
   ]
  },
  {
   "cell_type": "code",
   "execution_count": 149,
   "metadata": {},
   "outputs": [
    {
     "data": {
      "text/plain": [
       "[(1, 11), (2, 6), (3, 6)]"
      ]
     },
     "execution_count": 149,
     "metadata": {},
     "output_type": "execute_result"
    }
   ],
   "source": [
    "n_region_pts"
   ]
  },
  {
   "cell_type": "code",
   "execution_count": 150,
   "metadata": {},
   "outputs": [
    {
     "name": "stdout",
     "output_type": "stream",
     "text": [
      "[[(1, 2), (1, 4), (1, 5), (2, 1), (2, 2), (2, 3), (2, 4), (2, 5), (3, 1), (3, 3), (3, 5)], [(2, 10), (3, 10), (4, 10), (5, 10), (6, 10), (6, 11)], [(8, 3), (8, 4), (8, 5), (8, 6), (8, 7), (9, 3)]]\n",
      "(1, 11)\n",
      "The pattern region is label = 1\n",
      "target regions are [2, 3]\n"
     ]
    }
   ],
   "source": [
    "# Sort the region sizes and get the pattern and list of other regions.\n",
    "print (region_coords)\n",
    "n_region_pts.sort (key = lambda x:x[1], reverse = True)\n",
    "print (n_region_pts[0]) # this is the pattern region, as it is the largest group, the other regions are the target regions.\n",
    "pattern_region = n_region_pts[0][0]\n",
    "print (f'The pattern region is label = {pattern_region}')\n",
    "pattern_coords = region_coords[pattern_region-1]\n",
    "\n",
    "target_regions = [x for (x,_) in n_region_pts[1:]]\n",
    "print (f'target regions are {target_regions}')\n",
    "\n",
    "target_coords = {r:region_coords[r-1] for r in target_regions}"
   ]
  },
  {
   "cell_type": "code",
   "execution_count": 151,
   "metadata": {},
   "outputs": [
    {
     "data": {
      "text/plain": [
       "[(2, 10), (3, 10), (4, 10), (5, 10), (6, 10), (6, 11)]"
      ]
     },
     "execution_count": 151,
     "metadata": {},
     "output_type": "execute_result"
    }
   ],
   "source": [
    "# We've the dictionary of target coordinates here.\n",
    "target_coords[2]"
   ]
  },
  {
   "cell_type": "code",
   "execution_count": 152,
   "metadata": {},
   "outputs": [
    {
     "data": {
      "text/plain": [
       "array([[0, 0, 0, 0, 0, 0, 0, 0, 0, 0, 0, 0, 0],\n",
       "       [0, 0, 0, 0, 0, 1, 0, 0, 0, 0, 0, 0, 0],\n",
       "       [0, 0, 0, 0, 0, 0, 0, 0, 0, 0, 0, 0, 0],\n",
       "       [0, 0, 0, 0, 0, 0, 0, 0, 0, 0, 0, 0, 0],\n",
       "       [0, 0, 0, 0, 0, 0, 0, 0, 0, 0, 0, 0, 0],\n",
       "       [0, 0, 0, 0, 0, 0, 0, 0, 0, 0, 0, 0, 0],\n",
       "       [0, 0, 0, 0, 0, 0, 0, 0, 0, 0, 0, 2, 0],\n",
       "       [0, 0, 0, 0, 0, 0, 0, 0, 0, 0, 0, 0, 0],\n",
       "       [0, 0, 0, 0, 0, 0, 0, 0, 0, 0, 0, 0, 0],\n",
       "       [0, 0, 0, 3, 0, 0, 0, 0, 0, 0, 0, 0, 0],\n",
       "       [0, 0, 0, 0, 0, 0, 0, 0, 0, 0, 0, 0, 0],\n",
       "       [0, 0, 0, 0, 0, 0, 0, 0, 0, 0, 0, 0, 0],\n",
       "       [0, 0, 0, 0, 0, 0, 0, 0, 0, 0, 0, 0, 0]])"
      ]
     },
     "execution_count": 152,
     "metadata": {},
     "output_type": "execute_result"
    }
   ],
   "source": [
    "# identify the red points in the image and get their coordinate.\n",
    "reds = (train_input[0] == 2) * np.ones_like(train_input[0])\n",
    "red_regions = skimage.measure.label(reds) # mark the regions\n",
    "red_regions"
   ]
  },
  {
   "cell_type": "code",
   "execution_count": 153,
   "metadata": {},
   "outputs": [
    {
     "name": "stdout",
     "output_type": "stream",
     "text": [
      "[(1, 5)]\n",
      "[(6, 11)]\n",
      "[(9, 3)]\n"
     ]
    }
   ],
   "source": [
    "# the coordinates of the red points.\n",
    "for region in range(n_regions):\n",
    "    r,c = np.nonzero(red_regions == region+1)\n",
    "    coords = list(zip(r, c))\n",
    "    print (coords) # is a list of tuples."
   ]
  },
  {
   "cell_type": "code",
   "execution_count": 154,
   "metadata": {},
   "outputs": [
    {
     "data": {
      "text/plain": [
       "list"
      ]
     },
     "execution_count": 154,
     "metadata": {},
     "output_type": "execute_result"
    }
   ],
   "source": [
    "type (coords)"
   ]
  },
  {
   "cell_type": "code",
   "execution_count": 155,
   "metadata": {},
   "outputs": [
    {
     "data": {
      "text/plain": [
       "[(1, 2),\n",
       " (1, 4),\n",
       " (1, 5),\n",
       " (2, 1),\n",
       " (2, 2),\n",
       " (2, 3),\n",
       " (2, 4),\n",
       " (2, 5),\n",
       " (3, 1),\n",
       " (3, 3),\n",
       " (3, 5)]"
      ]
     },
     "execution_count": 155,
     "metadata": {},
     "output_type": "execute_result"
    }
   ],
   "source": [
    "# We have already identified the pattern coordinates.\n",
    "pattern_coords"
   ]
  },
  {
   "cell_type": "code",
   "execution_count": 156,
   "metadata": {},
   "outputs": [
    {
     "data": {
      "text/plain": [
       "[((1, 2), 1),\n",
       " ((1, 4), 1),\n",
       " ((1, 5), 2),\n",
       " ((2, 1), 4),\n",
       " ((2, 2), 4),\n",
       " ((2, 3), 4),\n",
       " ((2, 4), 4),\n",
       " ((2, 5), 4),\n",
       " ((3, 1), 3),\n",
       " ((3, 3), 3),\n",
       " ((3, 5), 3)]"
      ]
     },
     "execution_count": 156,
     "metadata": {},
     "output_type": "execute_result"
    }
   ],
   "source": [
    "# lets put the colors back with these coordinates.\n",
    "color_pattern = [(coord, train_input[0][coord[0], coord[1]]) for coord in pattern_coords]\n",
    "color_pattern"
   ]
  },
  {
   "cell_type": "code",
   "execution_count": 157,
   "metadata": {},
   "outputs": [
    {
     "data": {
      "text/plain": [
       "[[1, 2],\n",
       " [1, 4],\n",
       " [1, 5],\n",
       " [2, 1],\n",
       " [2, 2],\n",
       " [2, 3],\n",
       " [2, 4],\n",
       " [2, 5],\n",
       " [3, 1],\n",
       " [3, 3],\n",
       " [3, 5]]"
      ]
     },
     "execution_count": 157,
     "metadata": {},
     "output_type": "execute_result"
    }
   ],
   "source": [
    "# we want a list of lists to pas to the transform function.\n",
    "pattern_pts = [[coord[0], coord[1]] for coord in pattern_coords]\n",
    "pattern_pts"
   ]
  },
  {
   "cell_type": "markdown",
   "metadata": {},
   "source": [
    "## here's the input of the pattern points to the transfer functions, we are always tranforming the pattern."
   ]
  },
  {
   "cell_type": "code",
   "execution_count": 158,
   "metadata": {},
   "outputs": [
    {
     "data": {
      "text/plain": [
       "array([[2., 3.]])"
      ]
     },
     "execution_count": 158,
     "metadata": {},
     "output_type": "execute_result"
    }
   ],
   "source": [
    "# https://scikit-image.org/docs/0.13.x/auto_examples/xx_applications/plot_geometric.html\n",
    "# here we apply the transform to the first point.\n",
    "tform_translate(pattern_pts[0])"
   ]
  },
  {
   "cell_type": "code",
   "execution_count": 159,
   "metadata": {},
   "outputs": [
    {
     "data": {
      "text/plain": [
       "(array([[2., 3.]]), array([[3., 4.]]), array([[-3.,  2.]]))"
      ]
     },
     "execution_count": 159,
     "metadata": {},
     "output_type": "execute_result"
    }
   ],
   "source": [
    "import math\n",
    "# https://scikit-image.org/docs/0.13.x/api/skimage.transform.html?highlight=rotate#skimage.transform.SimilarityTransform\n",
    "\n",
    "def tform (P, xt=0, yt=0, rotn = 0, matrix = None):\n",
    "    \"\"\"\n",
    "    transform the point with translation xt, yt and rotation, counter clockwise in rads.\n",
    "    so math.pi/2 is the 90 deg rotation. if you join translate and rotate it rotates first.\n",
    "    returns the transformed coordinate\n",
    "    \n",
    "    >>> P1 = tform(pattern_pts[0], 1, 1, 0)\n",
    "    array([[2., 3.]])\n",
    "    \n",
    "    >>> mirror = np.array([[-1, 0, 0], [0, 1, 0], [0, 0, 1]])\n",
    "    >>> P2 = tform(P1, 1, 1, 0, matrix = mirror)\n",
    "    array([[3., 4.]])\n",
    "    \n",
    "    >>> P3 = tform(P1, 0, 0, math.pi/2, 0)\n",
    "    array([[-3.,  2.]])\n",
    "    \n",
    "    \"\"\"\n",
    "    tform_translate = SimilarityTransform(translation=(xt, yt), rotation = rotn)\n",
    "    return tform_translate(P)\n",
    "\n",
    "\n",
    "# Testing only.\n",
    "\n",
    "P1 = tform(pattern_pts[0], 1, 1, 0)\n",
    "# P2 = tform(P1, 0, 0, math.pi/2)\n",
    "mirror = np.array([[-1, 0, 0], [0, 1, 0], [0, 0, 1]])\n",
    "# rot is a reflection in the origin, note that non of the examples have points on the origin.\n",
    "\n",
    "P2 = tform(P1, 1, 1, 0, matrix = mirror)\n",
    "\n",
    "P3 = tform(P1, 0, 0, math.pi/2, 0)\n",
    "\n",
    "\n",
    "P1, P2, P3"
   ]
  },
  {
   "cell_type": "code",
   "execution_count": 160,
   "metadata": {},
   "outputs": [
    {
     "data": {
      "text/plain": [
       "array([[-2.,  3.]])"
      ]
     },
     "execution_count": 160,
     "metadata": {},
     "output_type": "execute_result"
    }
   ],
   "source": [
    "# test for the reflection transformation\n",
    "\n",
    "tform_reflect = AffineTransform(matrix = mirror) # is reflecting about the y-axis\n",
    "tform_reflect(P1)"
   ]
  },
  {
   "cell_type": "code",
   "execution_count": null,
   "metadata": {},
   "outputs": [],
   "source": []
  },
  {
   "cell_type": "code",
   "execution_count": null,
   "metadata": {},
   "outputs": [],
   "source": []
  },
  {
   "cell_type": "markdown",
   "metadata": {},
   "source": [
    "## Now we've the main coordinate systems for the training array, we can extract the pattern shape and apply the functions to it."
   ]
  },
  {
   "cell_type": "code",
   "execution_count": 161,
   "metadata": {},
   "outputs": [
    {
     "data": {
      "text/plain": [
       "array([[0, 0, 0, 0, 0, 0, 0, 0, 0, 0, 0, 0, 0],\n",
       "       [0, 0, 1, 0, 1, 2, 0, 0, 0, 0, 0, 0, 0],\n",
       "       [0, 4, 4, 4, 4, 4, 0, 0, 0, 0, 0, 0, 0],\n",
       "       [0, 3, 0, 3, 0, 3, 0, 0, 0, 0, 0, 0, 0],\n",
       "       [0, 0, 0, 0, 0, 0, 0, 0, 0, 0, 0, 0, 0],\n",
       "       [0, 0, 0, 0, 0, 0, 0, 0, 0, 0, 0, 0, 0],\n",
       "       [0, 0, 0, 0, 0, 0, 0, 0, 0, 0, 0, 0, 0],\n",
       "       [0, 0, 0, 0, 0, 0, 0, 0, 0, 0, 0, 0, 0],\n",
       "       [0, 0, 0, 0, 0, 0, 0, 0, 0, 0, 0, 0, 0],\n",
       "       [0, 0, 0, 0, 0, 0, 0, 0, 0, 0, 0, 0, 0],\n",
       "       [0, 0, 0, 0, 0, 0, 0, 0, 0, 0, 0, 0, 0],\n",
       "       [0, 0, 0, 0, 0, 0, 0, 0, 0, 0, 0, 0, 0],\n",
       "       [0, 0, 0, 0, 0, 0, 0, 0, 0, 0, 0, 0, 0]])"
      ]
     },
     "execution_count": 161,
     "metadata": {},
     "output_type": "execute_result"
    }
   ],
   "source": [
    "# make the array of just the pattern region, we will transform this to try to match the targets.\n",
    "pattern = train_input[0] * (regions == pattern_region)\n",
    "pattern"
   ]
  },
  {
   "cell_type": "code",
   "execution_count": 162,
   "metadata": {},
   "outputs": [
    {
     "data": {
      "text/plain": [
       "[1, 5]"
      ]
     },
     "execution_count": 162,
     "metadata": {},
     "output_type": "execute_result"
    }
   ],
   "source": [
    "pattern_red = [(np.where (pattern == 2))[0][0], (np.where (pattern == 2))[1][0]]\n",
    "pattern_red"
   ]
  },
  {
   "cell_type": "code",
   "execution_count": 163,
   "metadata": {},
   "outputs": [
    {
     "data": {
      "text/plain": [
       "array([[0, 0, 0, 0, 0, 0, 0, 0, 0, 0, 0, 0, 0],\n",
       "       [0, 0, 0, 0, 0, 0, 0, 0, 0, 0, 0, 0, 0],\n",
       "       [0, 0, 0, 0, 0, 0, 0, 0, 0, 0, 4, 0, 0],\n",
       "       [0, 0, 0, 0, 0, 0, 0, 0, 0, 0, 4, 0, 0],\n",
       "       [0, 0, 0, 0, 0, 0, 0, 0, 0, 0, 4, 0, 0],\n",
       "       [0, 0, 0, 0, 0, 0, 0, 0, 0, 0, 4, 0, 0],\n",
       "       [0, 0, 0, 0, 0, 0, 0, 0, 0, 0, 4, 2, 0],\n",
       "       [0, 0, 0, 0, 0, 0, 0, 0, 0, 0, 0, 0, 0],\n",
       "       [0, 0, 0, 0, 0, 0, 0, 0, 0, 0, 0, 0, 0],\n",
       "       [0, 0, 0, 0, 0, 0, 0, 0, 0, 0, 0, 0, 0],\n",
       "       [0, 0, 0, 0, 0, 0, 0, 0, 0, 0, 0, 0, 0],\n",
       "       [0, 0, 0, 0, 0, 0, 0, 0, 0, 0, 0, 0, 0],\n",
       "       [0, 0, 0, 0, 0, 0, 0, 0, 0, 0, 0, 0, 0]])"
      ]
     },
     "execution_count": 163,
     "metadata": {},
     "output_type": "execute_result"
    }
   ],
   "source": [
    "# Make the target arrays for each target region. We are aiming to translate the pattern to these targets.\n",
    "targ = []\n",
    "for target_region in target_regions:\n",
    "    # print (target_region)\n",
    "    targ.append(train_input[0] * (regions == target_region))\n",
    "\n",
    "targets = dict(zip(target_regions, targ))\n",
    "targets[2] # s the array of the dictionary of arrays of each target array by label for target_regions"
   ]
  },
  {
   "cell_type": "code",
   "execution_count": 164,
   "metadata": {},
   "outputs": [
    {
     "data": {
      "text/plain": [
       "(array([[0, 0, 0, 0, 0, 0, 0, 0, 0, 0, 0, 0, 0],\n",
       "        [0, 0, 0, 0, 0, 0, 0, 0, 0, 0, 0, 0, 0],\n",
       "        [0, 0, 0, 0, 0, 0, 0, 0, 0, 0, 4, 0, 0],\n",
       "        [0, 0, 0, 0, 0, 0, 0, 0, 0, 0, 4, 0, 0],\n",
       "        [0, 0, 0, 0, 0, 0, 0, 0, 0, 0, 4, 0, 0],\n",
       "        [0, 0, 0, 0, 0, 0, 0, 0, 0, 0, 4, 0, 0],\n",
       "        [0, 0, 0, 0, 0, 0, 0, 0, 0, 0, 4, 2, 0],\n",
       "        [0, 0, 0, 0, 0, 0, 0, 0, 0, 0, 0, 0, 0],\n",
       "        [0, 0, 0, 0, 0, 0, 0, 0, 0, 0, 0, 0, 0],\n",
       "        [0, 0, 0, 0, 0, 0, 0, 0, 0, 0, 0, 0, 0],\n",
       "        [0, 0, 0, 0, 0, 0, 0, 0, 0, 0, 0, 0, 0],\n",
       "        [0, 0, 0, 0, 0, 0, 0, 0, 0, 0, 0, 0, 0],\n",
       "        [0, 0, 0, 0, 0, 0, 0, 0, 0, 0, 0, 0, 0]]),\n",
       " array([[0, 0, 0, 0, 0, 0, 0, 0, 0, 0, 0, 0, 0],\n",
       "        [0, 0, 0, 0, 0, 0, 0, 0, 0, 0, 0, 0, 0],\n",
       "        [0, 0, 0, 0, 0, 0, 0, 0, 0, 0, 0, 0, 0],\n",
       "        [0, 0, 0, 0, 0, 0, 0, 0, 0, 0, 0, 0, 0],\n",
       "        [0, 0, 0, 0, 0, 0, 0, 0, 0, 0, 0, 0, 0],\n",
       "        [0, 0, 0, 0, 0, 0, 0, 0, 0, 0, 0, 0, 0],\n",
       "        [0, 0, 0, 0, 0, 0, 0, 0, 0, 0, 0, 0, 0],\n",
       "        [0, 0, 0, 0, 0, 0, 0, 0, 0, 0, 0, 0, 0],\n",
       "        [0, 0, 0, 4, 4, 4, 4, 4, 0, 0, 0, 0, 0],\n",
       "        [0, 0, 0, 2, 0, 0, 0, 0, 0, 0, 0, 0, 0],\n",
       "        [0, 0, 0, 0, 0, 0, 0, 0, 0, 0, 0, 0, 0],\n",
       "        [0, 0, 0, 0, 0, 0, 0, 0, 0, 0, 0, 0, 0],\n",
       "        [0, 0, 0, 0, 0, 0, 0, 0, 0, 0, 0, 0, 0]]))"
      ]
     },
     "execution_count": 164,
     "metadata": {},
     "output_type": "execute_result"
    }
   ],
   "source": [
    "targets[2], targets[3]\n",
    "# these are the target shapes for the transformations"
   ]
  },
  {
   "cell_type": "code",
   "execution_count": 165,
   "metadata": {},
   "outputs": [
    {
     "data": {
      "text/plain": [
       "0"
      ]
     },
     "execution_count": 165,
     "metadata": {},
     "output_type": "execute_result"
    }
   ],
   "source": [
    "def scores (target_region, transformed_pts):\n",
    "    target_score = n_reg_pts[target_region]\n",
    "    intersection = len(set([(x,y) for [x,y] in transformed_pts]).intersection(set(target_coords[target_region])))\n",
    "    # print (intersection, target_score)\n",
    "    score = (target_score - intersection)\n",
    "    return score  # a score of 1.0 is a match.\n",
    "\n",
    "scores (2, target_coords[2])"
   ]
  },
  {
   "cell_type": "code",
   "execution_count": 236,
   "metadata": {},
   "outputs": [
    {
     "name": "stdout",
     "output_type": "stream",
     "text": [
      "[(2, 10), (3, 10), (4, 10), (5, 10), (6, 10), (6, 11)] (2,) (2,)\n",
      "[(8, 3), (8, 4), (8, 5), (8, 6), (8, 7), (9, 3)] (2,) (2,)\n"
     ]
    }
   ],
   "source": [
    "for target_region in target_regions:\n",
    "    print (target_coords[target_region], np.shape(target_regions), np.shape((targets, np.where (targets[target_region] == 2))))"
   ]
  },
  {
   "cell_type": "markdown",
   "metadata": {},
   "source": [
    "## get_tranform_xy (p_red):\n",
    "<p> The function takes a red point of the pattern and looks to tranform it to the target red point. it return the tx, ty for the transform."
   ]
  },
  {
   "cell_type": "code",
   "execution_count": 237,
   "metadata": {},
   "outputs": [
    {
     "name": "stdout",
     "output_type": "stream",
     "text": [
      "[(2, 10), (3, 10), (4, 10), (5, 10), (6, 10), (6, 11)] (2,) (2,)\n",
      "[(8, 3), (8, 4), (8, 5), (8, 6), (8, 7), (9, 3)] (2,) (2,)\n"
     ]
    },
    {
     "data": {
      "text/plain": [
       "[[5, 6], [8, -2]]"
      ]
     },
     "execution_count": 237,
     "metadata": {},
     "output_type": "execute_result"
    }
   ],
   "source": [
    "# get the red points for the targets and the two transformations (target - pattern)\n",
    "\n",
    "def get_transform_xy (p_red):\n",
    "    targets_trfm = []\n",
    "    for target_region in target_regions:\n",
    "        print (target_coords[target_region], np.shape(target_regions), np.shape((targets, np.where (targets[target_region] == 2))))\n",
    "        reds = [(np.where (targets[target_region] == 2))[0][0], (np.where (targets[target_region] == 2))[1][0]] # color 2 = red.\n",
    "        tx = reds[0] - p_red[0]\n",
    "        ty = reds[1] - p_red[1]\n",
    "        trfm = [tx,ty]    \n",
    "        targets_trfm.append(trfm)\n",
    "        \n",
    "    return targets_trfm\n",
    "\n",
    "targets_trfm = get_transform_xy (pattern_red)\n",
    "targets_trfm"
   ]
  },
  {
   "cell_type": "code",
   "execution_count": 168,
   "metadata": {},
   "outputs": [
    {
     "data": {
      "text/plain": [
       "[[5, 6], [8, -2]]"
      ]
     },
     "execution_count": 168,
     "metadata": {},
     "output_type": "execute_result"
    }
   ],
   "source": [
    "get_transform_xy ([1,5])"
   ]
  },
  {
   "cell_type": "code",
   "execution_count": 169,
   "metadata": {},
   "outputs": [
    {
     "data": {
      "text/plain": [
       "([2, 3], 3)"
      ]
     },
     "execution_count": 169,
     "metadata": {},
     "output_type": "execute_result"
    }
   ],
   "source": [
    "target_regions, n_regions"
   ]
  },
  {
   "cell_type": "markdown",
   "metadata": {},
   "source": [
    "## This is start of the loop for the target region = 2. for pattern = region 1, target regions 0 and 1 to n_regions"
   ]
  },
  {
   "cell_type": "code",
   "execution_count": 170,
   "metadata": {},
   "outputs": [],
   "source": [
    "# now we can tranform the pattern red points to the target red points.\n",
    "\n",
    "# make some translate functions.\n",
    "# for the first target from target_regions.\n",
    "all_scores = {} # dict for the 8 possible function scores \n",
    "target_grid = {} # dict of target_region: array of final points."
   ]
  },
  {
   "cell_type": "code",
   "execution_count": 193,
   "metadata": {},
   "outputs": [
    {
     "name": "stdout",
     "output_type": "stream",
     "text": [
      " deltas = 10.0, -2.0\n",
      "[1, 5] [[-1.  5.]] [[ 9.  0.]\n",
      " [ 9.  2.]\n",
      " [ 9.  3.]\n",
      " [ 8. -1.]\n",
      " [ 8.  0.]\n",
      " [ 8.  1.]\n",
      " [ 8.  2.]\n",
      " [ 8.  3.]\n",
      " [ 7. -1.]\n",
      " [ 7.  1.]\n",
      " [ 7.  3.]]\n",
      "target_region = 3\n",
      "pt2 score = 4\n"
     ]
    }
   ],
   "source": [
    "# This is the main loop \n",
    "\n",
    "target_region = 3 # for regions labeled from 1 with 1 = pattern so first target = 2 loop target_region in target_regions\n",
    "\n",
    "target_n = target_region - 2 # first target region, matched to target_region\n",
    "n_reg_pts = dict(n_region_pts) # gets a dict of {region : n_pts} for the target function.\n",
    "# target_region  target_n + 2 # for regions labeled from 1 with 1 = pattern so first target = 2\n",
    "\n",
    "tx, ty = targets_trfm [target_n][0], targets_trfm [target_n][1]\n",
    "\n",
    "def t1 (points, tx, ty):\n",
    "      return tform(points ,tx , ty, 0) # transform only, P1 by tx, ty\n",
    "\n",
    "pt1 = t1(pattern_pts, targets_trfm[target_n][0], targets_trfm[target_n][1])\n",
    "all_scores.update({'pt1': scores(target_region, pt1)})\n",
    "\n",
    "# t2 = [tform_reflect(pt) for pt in pattern_pts]\n",
    "def t2 (points):\n",
    "    \"\"\"\n",
    "    reflection followed by transformation of the pattern points.\n",
    "    returns transformed points.\n",
    "    \"\"\" \n",
    "    pt_red = tform (tform_reflect(tform(pattern_red))) # completes a reflection of the red point.\n",
    "    tx, ty = get_transform_xy(pt_red[0])[target_n] # for the target_n target region.\n",
    "    print (f' deltas = {tx}, {ty}')\n",
    "        \n",
    "    pt2 = t1 (tform_reflect(tform(points)), tx, ty ) # completes a reflection of all pattern\n",
    "    \n",
    "    print (pattern_red, pt_red, pt2)\n",
    "       \n",
    "    return [(round(x),round(y)) for [x,y] in pt2]\n",
    "    \n",
    "    \n",
    "# reflect and transform with the tranform from the reflected red point to the target.\n",
    "pt2 = t2(pattern_pts)\n",
    "\n",
    "print (f'target_region = {target_region}')\n",
    "print (f'pt2 score = {scores(target_region, pt2)}')  # for pt2 (reflect and translate\n",
    "all_scores.update({'pt2': scores(target_region, pt2)})"
   ]
  },
  {
   "cell_type": "code",
   "execution_count": 194,
   "metadata": {},
   "outputs": [
    {
     "data": {
      "text/plain": [
       "(8, -2)"
      ]
     },
     "execution_count": 194,
     "metadata": {},
     "output_type": "execute_result"
    }
   ],
   "source": [
    "# testing \n",
    "# target_region = 3 # for regions labeled from 1 with 1 = pattern so first target = 2 loop target_region in target_regions\n",
    "\n",
    "target_n = target_region - 2 # first target region, matched to target_region\n",
    "n_reg_pts = dict(n_region_pts) # gets a dict of {region : n_pts} for the target function.\n",
    "target_region = target_n + 2 # for regions labeled from 1 with 1 = pattern so first target = 2\n",
    "\n",
    "tx, ty = targets_trfm [target_n][0], targets_trfm [target_n][1]\n",
    "tx, ty"
   ]
  },
  {
   "cell_type": "code",
   "execution_count": 195,
   "metadata": {},
   "outputs": [
    {
     "data": {
      "text/plain": [
       "[1.0, 12.0]"
      ]
     },
     "execution_count": 195,
     "metadata": {},
     "output_type": "execute_result"
    }
   ],
   "source": [
    "# testing\n",
    "pt_red, target_n\n",
    "get_transform_xy(pt_red[0])[0]"
   ]
  },
  {
   "cell_type": "code",
   "execution_count": 196,
   "metadata": {},
   "outputs": [
    {
     "data": {
      "text/plain": [
       "array([[-1.,  2.],\n",
       "       [-1.,  4.],\n",
       "       [-1.,  5.],\n",
       "       [-2.,  1.],\n",
       "       [-2.,  2.],\n",
       "       [-2.,  3.],\n",
       "       [-2.,  4.],\n",
       "       [-2.,  5.],\n",
       "       [-3.,  1.],\n",
       "       [-3.,  3.],\n",
       "       [-3.,  5.]])"
      ]
     },
     "execution_count": 196,
     "metadata": {},
     "output_type": "execute_result"
    }
   ],
   "source": [
    "# manually checked this transformation. PASS\n",
    "tform_reflect(tform(pattern_pts))  # this is a reflection in the xaxis."
   ]
  },
  {
   "cell_type": "code",
   "execution_count": 197,
   "metadata": {},
   "outputs": [
    {
     "data": {
      "text/plain": [
       "(list, int)"
      ]
     },
     "execution_count": 197,
     "metadata": {},
     "output_type": "execute_result"
    }
   ],
   "source": [
    "type(pt2), type(target_region)"
   ]
  },
  {
   "cell_type": "code",
   "execution_count": 198,
   "metadata": {},
   "outputs": [
    {
     "name": "stdout",
     "output_type": "stream",
     "text": [
      " deltas = 4.0, 4.000000000000001\n",
      "[1, 5] [[ 5. -1.]]\n",
      "[[1, 2], [1, 4], [1, 5], [2, 1], [2, 2], [2, 3], [2, 4], [2, 5], [3, 1], [3, 3], [3, 5]] [[ 2. -1.]\n",
      " [ 4. -1.]\n",
      " [ 5. -1.]\n",
      " [ 1. -2.]\n",
      " [ 2. -2.]\n",
      " [ 3. -2.]\n",
      " [ 4. -2.]\n",
      " [ 5. -2.]\n",
      " [ 1. -3.]\n",
      " [ 3. -3.]\n",
      " [ 5. -3.]] [[6. 3.]\n",
      " [8. 3.]\n",
      " [9. 3.]\n",
      " [5. 2.]\n",
      " [6. 2.]\n",
      " [7. 2.]\n",
      " [8. 2.]\n",
      " [9. 2.]\n",
      " [5. 1.]\n",
      " [7. 1.]\n",
      " [9. 1.]]\n",
      "pt3 (270) score = 4\n"
     ]
    }
   ],
   "source": [
    "def t3 (points, rads):\n",
    "    \"\"\"\n",
    "    rotation followed by translation of the pattern points.\n",
    "    returns transformed points.\n",
    "    rot, rotation is rad counter clockwise.\n",
    "    \"\"\"\n",
    "    pt_red = tform(pattern_red, 0, 0, rads) # completes a rotation of the red point for the pattern.\n",
    "    tx, ty = get_transform_xy(pt_red[0])[target_n] # get the tx, ty for the target_n target region.\n",
    "    print (f' deltas = {tx}, {ty}')\n",
    "        \n",
    "    pt_rot = tform(points, 0, 0, rads) # completes a rotation and tranlastion by tx, ty of all pattern points\n",
    "    \n",
    "    pt3 = t1(pt_rot, tx, ty)\n",
    "    \n",
    "    print (pattern_red, pt_red)\n",
    "    print (points, pt_rot, pt3)\n",
    "       \n",
    "    return [(round(x),round(y)) for [x,y] in pt3]\n",
    "\n",
    "pt3 = t3 (pattern_pts, math.pi*3/2)\n",
    "print (f'pt3 (270) score = {scores(target_region, pt3)}')  # for pt3 rotation and translate\n",
    "all_scores.update({'pt3': scores(target_region, pt3)})"
   ]
  },
  {
   "cell_type": "code",
   "execution_count": 199,
   "metadata": {},
   "outputs": [
    {
     "data": {
      "text/plain": [
       "[(2, 10), (3, 10), (4, 10), (5, 10), (6, 10), (6, 11)]"
      ]
     },
     "execution_count": 199,
     "metadata": {},
     "output_type": "execute_result"
    }
   ],
   "source": [
    "target_coords[2]"
   ]
  },
  {
   "cell_type": "code",
   "execution_count": 200,
   "metadata": {},
   "outputs": [
    {
     "name": "stdout",
     "output_type": "stream",
     "text": [
      " deltas = 14.0, 1.9999999999999998\n",
      "[1, 5] [[-5.  1.]]\n",
      "[[1, 2], [1, 4], [1, 5], [2, 1], [2, 2], [2, 3], [2, 4], [2, 5], [3, 1], [3, 3], [3, 5]] [[-2.  1.]\n",
      " [-4.  1.]\n",
      " [-5.  1.]\n",
      " [-1.  2.]\n",
      " [-2.  2.]\n",
      " [-3.  2.]\n",
      " [-4.  2.]\n",
      " [-5.  2.]\n",
      " [-1.  3.]\n",
      " [-3.  3.]\n",
      " [-5.  3.]] [[12.  3.]\n",
      " [10.  3.]\n",
      " [ 9.  3.]\n",
      " [13.  4.]\n",
      " [12.  4.]\n",
      " [11.  4.]\n",
      " [10.  4.]\n",
      " [ 9.  4.]\n",
      " [13.  5.]\n",
      " [11.  5.]\n",
      " [ 9.  5.]]\n",
      "pt4 (90) score = 5\n"
     ]
    }
   ],
   "source": [
    "pt4 = t3 (pattern_pts, math.pi/2)  # for 90 deg rotation.\n",
    "print (f'pt4 (90) score = {scores(target_region, pt4)}')  # for pt4 rotation and translate\n",
    "all_scores.update({'pt4': scores(target_region, pt4)})"
   ]
  },
  {
   "cell_type": "code",
   "execution_count": 201,
   "metadata": {},
   "outputs": [
    {
     "name": "stdout",
     "output_type": "stream",
     "text": [
      " deltas = 10.0, 8.0\n",
      "[1, 5] [[-1. -5.]]\n",
      "[[1, 2], [1, 4], [1, 5], [2, 1], [2, 2], [2, 3], [2, 4], [2, 5], [3, 1], [3, 3], [3, 5]] [[-1. -2.]\n",
      " [-1. -4.]\n",
      " [-1. -5.]\n",
      " [-2. -1.]\n",
      " [-2. -2.]\n",
      " [-2. -3.]\n",
      " [-2. -4.]\n",
      " [-2. -5.]\n",
      " [-3. -1.]\n",
      " [-3. -3.]\n",
      " [-3. -5.]] [[9. 6.]\n",
      " [9. 4.]\n",
      " [9. 3.]\n",
      " [8. 7.]\n",
      " [8. 6.]\n",
      " [8. 5.]\n",
      " [8. 4.]\n",
      " [8. 3.]\n",
      " [7. 7.]\n",
      " [7. 5.]\n",
      " [7. 3.]]\n",
      "pt5 (90) score = 0\n"
     ]
    }
   ],
   "source": [
    "pt5 = t3 (pattern_pts, math.pi)  # for 180 deg rotation.\n",
    "print (f'pt5 (90) score = {scores(target_region, pt5)}')  # for pt5 rotation and translate\n",
    "all_scores.update({'pt5': scores(target_region, pt5)})"
   ]
  },
  {
   "cell_type": "code",
   "execution_count": 202,
   "metadata": {},
   "outputs": [
    {
     "name": "stdout",
     "output_type": "stream",
     "text": [
      " deltas = 4.0, 1.9999999999999998\n",
      "[1, 5] [[-5.  1.]]\n",
      " pt_red2 point double transformed; [[5. 1.]]\n",
      "[[1, 2], [1, 4], [1, 5], [2, 1], [2, 2], [2, 3], [2, 4], [2, 5], [3, 1], [3, 3], [3, 5]] [[-2.  1.]\n",
      " [-4.  1.]\n",
      " [-5.  1.]\n",
      " [-1.  2.]\n",
      " [-2.  2.]\n",
      " [-3.  2.]\n",
      " [-4.  2.]\n",
      " [-5.  2.]\n",
      " [-1.  3.]\n",
      " [-3.  3.]\n",
      " [-5.  3.]] [[6. 3.]\n",
      " [8. 3.]\n",
      " [9. 3.]\n",
      " [5. 4.]\n",
      " [6. 4.]\n",
      " [7. 4.]\n",
      " [8. 4.]\n",
      " [9. 4.]\n",
      " [5. 5.]\n",
      " [7. 5.]\n",
      " [9. 5.]]\n",
      "pt6 (90) score = 3\n"
     ]
    }
   ],
   "source": [
    "def t4 (points, rads):\n",
    "    \"\"\"\n",
    "    rotation & reflection followed by translation of the pattern points.\n",
    "    returns transformed points.\n",
    "    rot, rotation is rad counter clockwise.\n",
    "    \"\"\"\n",
    "    pt_red = tform(pattern_red, 0, 0, rads) # completes a rotation of the red point for the pattern.\n",
    "    pt_red2 = tform (tform_reflect(tform(pt_red))) # completes a reflection of the red point.\n",
    "    tx, ty = get_transform_xy(pt_red2[0])[target_n] # get the tx, ty for the target_n target region.\n",
    "    print (f' deltas = {tx}, {ty}')\n",
    "    print (pattern_red, pt_red)\n",
    "    print (f' pt_red2 point double transformed; {pt_red2}')\n",
    "    \n",
    "    pt_rot = tform(points, 0, 0, rads) # completes a rotation and tranlastion by tx, ty of all pattern points\n",
    "    pt6 = t1 (tform_reflect(tform(pt_rot)), tx, ty ) # completes a reflection of all pattern\n",
    "            \n",
    "    print (points, pt_rot, pt6)\n",
    "       \n",
    "    return [(round(x),round(y)) for [x,y] in pt6]\n",
    "\n",
    "pt6 = t4 (pattern_pts, math.pi*1/2)\n",
    "print (f'pt6 (90) score = {scores(target_region, pt6)}')  # for pt6 rotation, reflection and translate\n",
    "all_scores.update({'pt6': scores(target_region, pt6)})"
   ]
  },
  {
   "cell_type": "code",
   "execution_count": 203,
   "metadata": {},
   "outputs": [
    {
     "name": "stdout",
     "output_type": "stream",
     "text": [
      " deltas = 7.999999999999999, 8.0\n",
      "[1, 5] [[-1. -5.]]\n",
      " pt_red2 point double transformed; [[ 1. -5.]]\n",
      "[[1, 2], [1, 4], [1, 5], [2, 1], [2, 2], [2, 3], [2, 4], [2, 5], [3, 1], [3, 3], [3, 5]] [[-1. -2.]\n",
      " [-1. -4.]\n",
      " [-1. -5.]\n",
      " [-2. -1.]\n",
      " [-2. -2.]\n",
      " [-2. -3.]\n",
      " [-2. -4.]\n",
      " [-2. -5.]\n",
      " [-3. -1.]\n",
      " [-3. -3.]\n",
      " [-3. -5.]] [[ 9.  6.]\n",
      " [ 9.  4.]\n",
      " [ 9.  3.]\n",
      " [10.  7.]\n",
      " [10.  6.]\n",
      " [10.  5.]\n",
      " [10.  4.]\n",
      " [10.  3.]\n",
      " [11.  7.]\n",
      " [11.  5.]\n",
      " [11.  3.]]\n",
      "pt7 (180) score = 5\n"
     ]
    }
   ],
   "source": [
    "pt7 = t4 (pattern_pts, math.pi)\n",
    "print (f'pt7 (180) score = {scores(target_region, pt7)}')  # for pt7 rotation, reflect and translate\n",
    "all_scores.update({'pt7': scores(target_region, pt7)})"
   ]
  },
  {
   "cell_type": "code",
   "execution_count": 204,
   "metadata": {},
   "outputs": [
    {
     "name": "stdout",
     "output_type": "stream",
     "text": [
      " deltas = 14.0, 4.000000000000001\n",
      "[1, 5] [[ 5. -1.]]\n",
      " pt_red2 point double transformed; [[-5. -1.]]\n",
      "[[1, 2], [1, 4], [1, 5], [2, 1], [2, 2], [2, 3], [2, 4], [2, 5], [3, 1], [3, 3], [3, 5]] [[ 2. -1.]\n",
      " [ 4. -1.]\n",
      " [ 5. -1.]\n",
      " [ 1. -2.]\n",
      " [ 2. -2.]\n",
      " [ 3. -2.]\n",
      " [ 4. -2.]\n",
      " [ 5. -2.]\n",
      " [ 1. -3.]\n",
      " [ 3. -3.]\n",
      " [ 5. -3.]] [[12.  3.]\n",
      " [10.  3.]\n",
      " [ 9.  3.]\n",
      " [13.  2.]\n",
      " [12.  2.]\n",
      " [11.  2.]\n",
      " [10.  2.]\n",
      " [ 9.  2.]\n",
      " [13.  1.]\n",
      " [11.  1.]\n",
      " [ 9.  1.]]\n",
      "pt8 (270) score = 5\n"
     ]
    }
   ],
   "source": [
    "pt8 = t4 (pattern_pts, math.pi * 3/2)\n",
    "print (f'pt8 (270) score = {scores(target_region, pt8)}')  # for pt8 rotation, reflect and translate\n",
    "all_scores.update({'pt8': scores(target_region, pt8)})"
   ]
  },
  {
   "cell_type": "code",
   "execution_count": 205,
   "metadata": {},
   "outputs": [
    {
     "data": {
      "text/plain": [
       "(14.0, 4.000000000000001)"
      ]
     },
     "execution_count": 205,
     "metadata": {},
     "output_type": "execute_result"
    }
   ],
   "source": [
    "# Check point transformation, manually checked function: PASS\n",
    "rads = math.pi *3/2\n",
    "pt_red = tform(pattern_red, 0, 0, rads) # completes a rotation of the red point for the pattern.\n",
    "pt_red2 = tform (tform_reflect(tform(pt_red))) # completes a reflection of the red point.\n",
    "tx, ty = get_transform_xy(pt_red2[0])[target_n] \n",
    "tx, ty"
   ]
  },
  {
   "cell_type": "code",
   "execution_count": 206,
   "metadata": {},
   "outputs": [
    {
     "data": {
      "text/plain": [
       "{'pt1': 5,\n",
       " 'pt2': 4,\n",
       " 'pt3': 4,\n",
       " 'pt4': 5,\n",
       " 'pt5': 0,\n",
       " 'pt6': 3,\n",
       " 'pt7': 5,\n",
       " 'pt8': 5}"
      ]
     },
     "execution_count": 206,
     "metadata": {},
     "output_type": "execute_result"
    }
   ],
   "source": [
    "# as p3, t3 score is zero, this function is the one to tranform the pattern to the target 2.\n",
    "\n",
    "#np.shape(pattern), pattern\n",
    "all_scores"
   ]
  },
  {
   "cell_type": "code",
   "execution_count": 207,
   "metadata": {},
   "outputs": [
    {
     "data": {
      "text/plain": [
       "'pt5'"
      ]
     },
     "execution_count": 207,
     "metadata": {},
     "output_type": "execute_result"
    }
   ],
   "source": [
    "# select the transform where the score = 0\n",
    "select = { v:k for k,v in all_scores.items()}\n",
    "select[0] # the score will always be 0 for the selected transforms."
   ]
  },
  {
   "cell_type": "code",
   "execution_count": 208,
   "metadata": {},
   "outputs": [
    {
     "data": {
      "text/plain": [
       "[(9.0, 6.0),\n",
       " (9.0, 4.0),\n",
       " (9.0, 3.0),\n",
       " (8.0, 7.0),\n",
       " (8.0, 6.0),\n",
       " (8.0, 5.0),\n",
       " (8.0, 4.0),\n",
       " (8.0, 3.0),\n",
       " (7.0, 7.0),\n",
       " (7.0, 5.0),\n",
       " (7.0, 3.0)]"
      ]
     },
     "execution_count": 208,
     "metadata": {},
     "output_type": "execute_result"
    }
   ],
   "source": [
    "# get the points from the selected transformation\n",
    "eval(select[0])"
   ]
  },
  {
   "cell_type": "code",
   "execution_count": 209,
   "metadata": {},
   "outputs": [
    {
     "data": {
      "text/plain": [
       "[((1, 2), 1),\n",
       " ((1, 4), 1),\n",
       " ((1, 5), 2),\n",
       " ((2, 1), 4),\n",
       " ((2, 2), 4),\n",
       " ((2, 3), 4),\n",
       " ((2, 4), 4),\n",
       " ((2, 5), 4),\n",
       " ((3, 1), 3),\n",
       " ((3, 3), 3),\n",
       " ((3, 5), 3)]"
      ]
     },
     "execution_count": 209,
     "metadata": {},
     "output_type": "execute_result"
    }
   ],
   "source": [
    "color_pattern"
   ]
  },
  {
   "cell_type": "code",
   "execution_count": 210,
   "metadata": {},
   "outputs": [
    {
     "data": {
      "text/plain": [
       "[(9, 6, 1),\n",
       " (9, 4, 1),\n",
       " (9, 3, 2),\n",
       " (8, 7, 4),\n",
       " (8, 6, 4),\n",
       " (8, 5, 4),\n",
       " (8, 4, 4),\n",
       " (8, 3, 4),\n",
       " (7, 7, 3),\n",
       " (7, 5, 3),\n",
       " (7, 3, 3)]"
      ]
     },
     "execution_count": 210,
     "metadata": {},
     "output_type": "execute_result"
    }
   ],
   "source": [
    "# add the colors back to the tranformed location.\n",
    "target_res = [(int(t1), int(t2), c) for [(t1,t2), (z, c)] in list(zip(eval(select[0]), color_pattern))]\n",
    "target_res"
   ]
  },
  {
   "cell_type": "code",
   "execution_count": 211,
   "metadata": {},
   "outputs": [
    {
     "data": {
      "text/plain": [
       "array([[0, 0, 0, 0, 0, 0, 0, 0, 0, 0, 0, 0, 0],\n",
       "       [0, 0, 0, 0, 0, 0, 0, 0, 0, 0, 0, 0, 0],\n",
       "       [0, 0, 0, 0, 0, 0, 0, 0, 0, 0, 0, 0, 0],\n",
       "       [0, 0, 0, 0, 0, 0, 0, 0, 0, 0, 0, 0, 0],\n",
       "       [0, 0, 0, 0, 0, 0, 0, 0, 0, 0, 0, 0, 0],\n",
       "       [0, 0, 0, 0, 0, 0, 0, 0, 0, 0, 0, 0, 0],\n",
       "       [0, 0, 0, 0, 0, 0, 0, 0, 0, 0, 0, 0, 0],\n",
       "       [0, 0, 0, 3, 0, 3, 0, 3, 0, 0, 0, 0, 0],\n",
       "       [0, 0, 0, 4, 4, 4, 4, 4, 0, 0, 0, 0, 0],\n",
       "       [0, 0, 0, 2, 1, 0, 1, 0, 0, 0, 0, 0, 0],\n",
       "       [0, 0, 0, 0, 0, 0, 0, 0, 0, 0, 0, 0, 0],\n",
       "       [0, 0, 0, 0, 0, 0, 0, 0, 0, 0, 0, 0, 0],\n",
       "       [0, 0, 0, 0, 0, 0, 0, 0, 0, 0, 0, 0, 0]])"
      ]
     },
     "execution_count": 211,
     "metadata": {},
     "output_type": "execute_result"
    }
   ],
   "source": [
    "# open a blank grid for this target\n",
    "\n",
    "t_grid = np.zeros_like(pattern)\n",
    "\n",
    "# for each point, populate the array with the color given (r,c, color)\n",
    "for row in target_res:\n",
    "    t_grid [row[0], row[1]] = row[2]\n",
    "\n",
    "# final_grid = final_grid.reshape((19,19))\n",
    "target_grid.update ({target_region : t_grid})\n",
    "target_grid[target_region]\n",
    "\n",
    "## This is the end of the loop"
   ]
  },
  {
   "cell_type": "code",
   "execution_count": 212,
   "metadata": {},
   "outputs": [
    {
     "data": {
      "text/plain": [
       "<matplotlib.image.AxesImage at 0x7f70a9c70e90>"
      ]
     },
     "execution_count": 212,
     "metadata": {},
     "output_type": "execute_result"
    },
    {
     "data": {
      "image/png": "[encoded data removed]",
      "text/plain": [
       "<Figure size 432x288 with 1 Axes>"
      ]
     },
     "metadata": {
      "needs_background": "light"
     },
     "output_type": "display_data"
    }
   ],
   "source": [
    "# check the plot with imshow\n",
    "\n",
    "plt.figure()\n",
    "plt.imshow(target_grid[target_region], cmap = cmap)\n"
   ]
  },
  {
   "cell_type": "code",
   "execution_count": 213,
   "metadata": {},
   "outputs": [
    {
     "data": {
      "text/plain": [
       "([2, 3],\n",
       " {2: array([[0, 0, 0, 0, 0, 0, 0, 0, 0, 0, 0, 0, 0],\n",
       "         [0, 0, 0, 0, 0, 0, 0, 0, 0, 0, 0, 0, 0],\n",
       "         [0, 0, 0, 0, 0, 0, 0, 0, 0, 3, 4, 0, 0],\n",
       "         [0, 0, 0, 0, 0, 0, 0, 0, 0, 0, 4, 1, 0],\n",
       "         [0, 0, 0, 0, 0, 0, 0, 0, 0, 3, 4, 0, 0],\n",
       "         [0, 0, 0, 0, 0, 0, 0, 0, 0, 0, 4, 1, 0],\n",
       "         [0, 0, 0, 0, 0, 0, 0, 0, 0, 3, 4, 2, 0],\n",
       "         [0, 0, 0, 0, 0, 0, 0, 0, 0, 0, 0, 0, 0],\n",
       "         [0, 0, 0, 0, 0, 0, 0, 0, 0, 0, 0, 0, 0],\n",
       "         [0, 0, 0, 0, 0, 0, 0, 0, 0, 0, 0, 0, 0],\n",
       "         [0, 0, 0, 0, 0, 0, 0, 0, 0, 0, 0, 0, 0],\n",
       "         [0, 0, 0, 0, 0, 0, 0, 0, 0, 0, 0, 0, 0],\n",
       "         [0, 0, 0, 0, 0, 0, 0, 0, 0, 0, 0, 0, 0]]),\n",
       "  3: array([[0, 0, 0, 0, 0, 0, 0, 0, 0, 0, 0, 0, 0],\n",
       "         [0, 0, 0, 0, 0, 0, 0, 0, 0, 0, 0, 0, 0],\n",
       "         [0, 0, 0, 0, 0, 0, 0, 0, 0, 0, 0, 0, 0],\n",
       "         [0, 0, 0, 0, 0, 0, 0, 0, 0, 0, 0, 0, 0],\n",
       "         [0, 0, 0, 0, 0, 0, 0, 0, 0, 0, 0, 0, 0],\n",
       "         [0, 0, 0, 0, 0, 0, 0, 0, 0, 0, 0, 0, 0],\n",
       "         [0, 0, 0, 0, 0, 0, 0, 0, 0, 0, 0, 0, 0],\n",
       "         [0, 0, 0, 3, 0, 3, 0, 3, 0, 0, 0, 0, 0],\n",
       "         [0, 0, 0, 4, 4, 4, 4, 4, 0, 0, 0, 0, 0],\n",
       "         [0, 0, 0, 2, 1, 0, 1, 0, 0, 0, 0, 0, 0],\n",
       "         [0, 0, 0, 0, 0, 0, 0, 0, 0, 0, 0, 0, 0],\n",
       "         [0, 0, 0, 0, 0, 0, 0, 0, 0, 0, 0, 0, 0],\n",
       "         [0, 0, 0, 0, 0, 0, 0, 0, 0, 0, 0, 0, 0]])})"
      ]
     },
     "execution_count": 213,
     "metadata": {},
     "output_type": "execute_result"
    }
   ],
   "source": [
    "target_regions, target_grid"
   ]
  },
  {
   "cell_type": "code",
   "execution_count": 214,
   "metadata": {},
   "outputs": [
    {
     "name": "stdout",
     "output_type": "stream",
     "text": [
      "2\n",
      "3\n"
     ]
    },
    {
     "data": {
      "text/plain": [
       "array([[0, 0, 0, 0, 0, 0, 0, 0, 0, 0, 0, 0, 0],\n",
       "       [0, 0, 1, 0, 1, 2, 0, 0, 0, 0, 0, 0, 0],\n",
       "       [0, 4, 4, 4, 4, 4, 0, 0, 0, 3, 4, 0, 0],\n",
       "       [0, 3, 0, 3, 0, 3, 0, 0, 0, 0, 4, 1, 0],\n",
       "       [0, 0, 0, 0, 0, 0, 0, 0, 0, 3, 4, 0, 0],\n",
       "       [0, 0, 0, 0, 0, 0, 0, 0, 0, 0, 4, 1, 0],\n",
       "       [0, 0, 0, 0, 0, 0, 0, 0, 0, 3, 4, 2, 0],\n",
       "       [0, 0, 0, 3, 0, 3, 0, 3, 0, 0, 0, 0, 0],\n",
       "       [0, 0, 0, 4, 4, 4, 4, 4, 0, 0, 0, 0, 0],\n",
       "       [0, 0, 0, 2, 1, 0, 1, 0, 0, 0, 0, 0, 0],\n",
       "       [0, 0, 0, 0, 0, 0, 0, 0, 0, 0, 0, 0, 0],\n",
       "       [0, 0, 0, 0, 0, 0, 0, 0, 0, 0, 0, 0, 0],\n",
       "       [0, 0, 0, 0, 0, 0, 0, 0, 0, 0, 0, 0, 0]])"
      ]
     },
     "execution_count": 214,
     "metadata": {},
     "output_type": "execute_result"
    }
   ],
   "source": [
    "#Finally put the individual target arrays back together.\n",
    "# remember that we have to run all the loopos manual for each target, to build up teh dictionary of transformed grids.\n",
    "# in the function this will be in the loop.\n",
    "\n",
    "final_grid = np.zeros_like(pattern)\n",
    "final_grid += pattern\n",
    "\n",
    "for n in target_regions:\n",
    "    print (n)\n",
    "    final_grid += target_grid[n]\n",
    "\n",
    "final_grid"
   ]
  },
  {
   "cell_type": "code",
   "execution_count": 215,
   "metadata": {},
   "outputs": [
    {
     "data": {
      "text/plain": [
       "<matplotlib.image.AxesImage at 0x7f70a9bbddd0>"
      ]
     },
     "execution_count": 215,
     "metadata": {},
     "output_type": "execute_result"
    },
    {
     "data": {
      "image/png": "[encoded data removed]",
      "text/plain": [
       "<Figure size 432x288 with 1 Axes>"
      ]
     },
     "metadata": {
      "needs_background": "light"
     },
     "output_type": "display_data"
    }
   ],
   "source": [
    "# check the plot with imshow\n",
    "\n",
    "plt.figure()\n",
    "plt.imshow(final_grid, cmap = cmap)\n"
   ]
  },
  {
   "cell_type": "code",
   "execution_count": 216,
   "metadata": {},
   "outputs": [],
   "source": [
    "# Check vs Solutions"
   ]
  },
  {
   "cell_type": "code",
   "execution_count": null,
   "metadata": {},
   "outputs": [],
   "source": [
    "plot_array(train_output)"
   ]
  },
  {
   "cell_type": "markdown",
   "metadata": {},
   "source": [
    "# The Function"
   ]
  },
  {
   "cell_type": "code",
   "execution_count": 42,
   "metadata": {},
   "outputs": [],
   "source": [
    "def solve_36d67576(x):\n",
    "\n",
    "    # https://scikit-image.org/docs/stable/user_guide/getting_started.html\n",
    "    import skimage\n",
    "    from skimage.transform import matrix_transform, SimilarityTransform, rotate, AffineTransform\n",
    "    from skimage.morphology import rectangle, flood_fill\n",
    "    \n",
    "    import math\n",
    "    \n",
    "    # https://scikit-image.org/docs/0.13.x/auto_examples/xx_applications/plot_geometric.html\n",
    "    \n",
    "    # https://scikit-image.org/docs/0.13.x/api/skimage.transform.html?highlight=rotate#skimage.transform.SimilarityTransform\n",
    "\n",
    "    def scores (target_region, transformed_pts):\n",
    "        \"\"\"\n",
    "        Calculates a score for which is the number of non-overlapping squares between the target and the transformed pattern.\n",
    "        A score of zero is a perfect match, a score > the zero indicates how many points are unmatching.\n",
    "        As we translate the red points on to each other the score should not always be > the (number of target points - 1)\n",
    "        A score >= number of target points indicates an error in the tansformation.\n",
    "        \n",
    "        \"\"\"\n",
    "        target_score = n_reg_pts[target_region]\n",
    "        intersection = len(set([(x,y) for [x,y] in transformed_pts]).intersection(set(target_coords[target_region])))\n",
    "        # print (intersection, target_score)\n",
    "        score = (target_score - intersection)\n",
    "        return score  # a score of 0 is a match.\n",
    "    \n",
    "    \n",
    "    # get the red points for the targets and the two transformations (target - pattern)\n",
    "\n",
    "    def get_transform_xy (p_red):\n",
    "        \"\"\"\n",
    "        Input the coords of a red point. Return the transformation tx, ty reququird to move the red points from the\n",
    "        pattern to the target regions. Returned as a list of lists [[tx,ty],..]\n",
    "        \"\"\"\n",
    "        \n",
    "        targets_trfm = []\n",
    "        for target_region in target_regions:\n",
    "            # print (target_coords[target_region], np.shape(target_regions), np.shape((targets, np.where (targets[target_region] == 2))))\n",
    "            # print ((targets[target_region]))\n",
    "            # print (f' tx{target_region} = {(np.where (targets[target_region] == 2))[1][0]}')\n",
    "            # print (f' ty{target_region} = {(np.where (targets[target_region] == 2))[1][0]}')\n",
    "            reds = [(np.where (targets[target_region] == 2))[0][0], (np.where (targets[target_region] == 2))[1][0]]\n",
    "            tx = reds[0] - p_red[0]\n",
    "            ty = reds[1] - p_red[1]\n",
    "            trfm = [tx,ty]    \n",
    "            targets_trfm.append(trfm)\n",
    "\n",
    "        return targets_trfm\n",
    "\n",
    "\n",
    "    \n",
    "    def tform (P, xt=0, yt=0, rotn = 0, matrix = None):\n",
    "        \"\"\"\n",
    "        transform a point, P or an array of points, with translation xt, yt and rotation, counter clockwise in rads.\n",
    "        so math.pi/2 is the 90 deg rotation. if you join translate and rotate it rotates first.\n",
    "        returns the transformed coordinate\n",
    "\n",
    "        >>> P1 = tform(pattern_pts[0], 1, 1, 0)\n",
    "        array([[2., 3.]])\n",
    "\n",
    "        >>> mirror = np.array([[-1, 0, 0], [0, 1, 0], [0, 0, 1]])\n",
    "        >>> P2 = tform(P1, 1, 1, 0, matrix = mirror)\n",
    "        array([[3., 4.]])\n",
    "\n",
    "        >>> P3 = tform(P1, 0, 0, math.pi/2, 0)\n",
    "        array([[-3.,  2.]])\n",
    "\n",
    "        \"\"\"\n",
    "        tform_translate = SimilarityTransform(translation=(xt, yt), rotation = rotn)\n",
    "        return tform_translate(P)\n",
    "    \n",
    "    mirror = np.array([[-1, 0, 0], [0, 1, 0], [0, 0, 1]])\n",
    "    tform_reflect = AffineTransform(matrix = mirror) # is reflecting about the y-axis\n",
    "        \n",
    "\n",
    "    def t1 (points, tx, ty):\n",
    "        \"\"\"\n",
    "        Translate point or array of points by tx, ty and return the transformed point or array.\n",
    "        In this probelm we always tranform pattern points.\n",
    "        \"\"\"\n",
    "        return tform(points ,tx , ty, 0) # transform only, P1 by tx, ty\n",
    "\n",
    "\n",
    "    # t2 = [tform_reflect(pt) for pt in pattern_pts]\n",
    "    def t2 (points):\n",
    "        \"\"\"\n",
    "        reflection followed by transformation of the pattern points.\n",
    "        returns transformed points.\n",
    "        \"\"\" \n",
    "        pt_red = tform (tform_reflect(tform(pattern_red))) # completes a reflection of the red point.\n",
    "        tx, ty = get_transform_xy(pt_red[0])[target_n] # for the target_n target region.\n",
    "        #print (f' deltas = {tx}, {ty}')\n",
    "\n",
    "        pt2 = t1 (tform_reflect(tform(points)), tx, ty ) # completes a reflection of all pattern\n",
    "\n",
    "        #print (pattern_red, pt_red, pt2)\n",
    "\n",
    "        return [(round(x),round(y)) for [x,y] in pt2]\n",
    "\n",
    "    \n",
    "    def t3 (points, rads):\n",
    "        \"\"\"\n",
    "        rotation followed by translation of the pattern points.\n",
    "        returns transformed points.\n",
    "        rot, rotation is rad counter clockwise.\n",
    "        \"\"\"\n",
    "        pt_red = tform(pattern_red, 0, 0, rads) # completes a rotation of the red point for the pattern.\n",
    "        tx, ty = get_transform_xy(pt_red[0])[target_n] # get the tx, ty for the target_n target region.\n",
    "        #print (f' deltas = {tx}, {ty}')\n",
    "\n",
    "        pt_rot = tform(points, 0, 0, rads) # completes a rotation and translation by tx, ty of all pattern points\n",
    "\n",
    "        pt3 = t1(pt_rot, tx, ty)\n",
    "\n",
    "        #print (pattern_red, pt_red)\n",
    "        #print (points, pt_rot, pt3)\n",
    "\n",
    "        return [(round(x),round(y)) for [x,y] in pt3]\n",
    "    \n",
    "    \n",
    "    def t4 (points, rads):\n",
    "        \"\"\"\n",
    "        rotation & reflection followed by translation of the pattern points.\n",
    "        returns transformed points.\n",
    "        rot, rotation is rad counter clockwise.\n",
    "        \"\"\"\n",
    "        pt_red = tform(pattern_red, 0, 0, rads) # completes a rotation of the red point for the pattern.\n",
    "        pt_red2 = tform (tform_reflect(tform(pt_red))) # completes a reflection of the red point.\n",
    "        tx, ty = get_transform_xy(pt_red2[0])[target_n] # get the tx, ty for the target_n target region.\n",
    "        #print (f' deltas = {tx}, {ty}')\n",
    "        #print (pattern_red, pt_red)\n",
    "        #print (f' pt_red2 point double transformed; {pt_red2}')\n",
    "\n",
    "        pt_rot = tform(points, 0, 0, rads) # completes a rotation and translation by tx, ty of all pattern points\n",
    "        pt6 = t1 (tform_reflect(tform(pt_rot)), tx, ty ) # completes a reflection of all pattern\n",
    "\n",
    "        #print (points, pt_rot, pt6)\n",
    "\n",
    "        return [(round(x),round(y)) for [x,y] in pt6]\n",
    "\n",
    "    \n",
    "\n",
    "    \n",
    "    \n",
    "    \n",
    "    ###########################\n",
    "    ## Main section here\n",
    "    \n",
    "    input_grid = x\n",
    "    # make an empty target array.\n",
    "    target = np.zeros_like(input_grid)\n",
    "\n",
    "    # get_regions of connected points.\n",
    "    # here's an array of all one color with the individual regions.\n",
    "    mono = (input_grid > 0) * np.ones_like(input_grid)\n",
    "    regions, n_regions = skimage.measure.label(mono, return_num = True) # mark the regions\n",
    "\n",
    "    # How many points are in each region, the largest region is the pattern, other regions are targets.\n",
    "    region_coords = []\n",
    "    n_region_pts = []\n",
    "\n",
    "    for region in range (n_regions):\n",
    "        r,c = np.nonzero(regions == region+1)\n",
    "        coords = list(zip(r, c))\n",
    "        region_coords.append(coords) # is a list of tuples.\n",
    "        n_region_pts.append ((region+1, len (coords)))\n",
    "\n",
    "    # Sort the region sizes and get the pattern and list of other regions.\n",
    "    # print (region_coords)\n",
    "    n_region_pts.sort (key = lambda x:x[1], reverse = True)\n",
    "    # print (n_region_pts[0]) # this is the pattern region, as it is the largest group, the other regions are the target regions.\n",
    "    pattern_region = n_region_pts[0][0]\n",
    "    # print (f'The pattern region is label = {pattern_region}')\n",
    "    pattern_coords = region_coords[pattern_region-1]\n",
    "\n",
    "    target_regions = [x for (x,_) in n_region_pts[1:]]\n",
    "    # print (f'target regions are {target_regions}')\n",
    "\n",
    "    target_coords = {r:region_coords[r-1] for r in target_regions} # dictionary of coordinates for each region\n",
    "    \n",
    "    # the movement of the red points defines the translation.\n",
    "    # identify the red points in the image and get their coordinate.\n",
    "    reds = (input_grid == 2) * np.ones_like(input_grid)\n",
    "    red_regions = skimage.measure.label(reds) # mark the regions\n",
    "    \n",
    "    # the coordinates of the red points.\n",
    "    for region in range(n_regions):\n",
    "        r,c = np.nonzero(red_regions == region+1)\n",
    "        coords = list(zip(r, c))\n",
    "        \n",
    "    # lets put the colors back with the pattern_coords coordinates.\n",
    "    color_pattern = [(coord, input_grid[coord[0], coord[1]]) for coord in pattern_coords]\n",
    "    # we want a list of lists of coords for each pattern to pass to the transform function as eacah target has different transfer functions.\n",
    "    pattern_pts = [[coord[0], coord[1]] for coord in pattern_coords]\n",
    "    \n",
    "    # get the array of just the pattern points that we will transform, and the red points.\n",
    "    pattern = input_grid * (regions == pattern_region)\n",
    "    pattern_red = [(np.where (pattern == 2))[0][0], (np.where (pattern == 2))[1][0]]\n",
    "    \n",
    "    # Make the target arrays for each target region. We are aiming to translate the pattern to these targets.\n",
    "    targ = []\n",
    "    for target_region in target_regions:\n",
    "        # print (target_region)\n",
    "        targ.append(input_grid * (regions == target_region))\n",
    "\n",
    "    targets = dict(zip(target_regions, targ))\n",
    "    targets_trfm = get_transform_xy (pattern_red)\n",
    "    \n",
    "    # Main loop over the each target region returning the dict of {target_region:target grids}\n",
    "    # The loop evaluates and scores each of the 8 possible transforms and selects the transform with score = 0.\n",
    "    all_scores = {} # dict for the 8 possible function scores \n",
    "    target_grid = {} # dict of target_region: array of final points.   \n",
    "    \n",
    "    for target_region in target_regions: # for regions labeled from 1 with 1 = pattern so first target = 2 loop target_region in target_regions\n",
    "\n",
    "        target_n = target_region - 2 # first target region, matched to target_region\n",
    "        n_reg_pts = dict(n_region_pts) # gets a dict of {region : n_pts} for the target function.\n",
    "        \n",
    "        tx, ty = targets_trfm [target_n][0], targets_trfm [target_n][1]\n",
    "        \n",
    "        # Transformation using t1, translate only by tx, ty gives pt1.\n",
    "        pt1 = t1(pattern_pts, targets_trfm[target_n][0], targets_trfm[target_n][1])\n",
    "        all_scores.update({'pt1': scores(target_region, pt1)})\n",
    "        \n",
    "        # translate (reflect (pattern_points))\n",
    "        pt2 = t2(pattern_pts)        \n",
    "        all_scores.update({'pt2': scores(target_region, pt2)})\n",
    "        \n",
    "        pt3 = t3 (pattern_pts, math.pi*3/2)\n",
    "        all_scores.update({'pt3': scores(target_region, pt3)}) # for 270 deg rotation.\n",
    "        \n",
    "        pt4 = t3 (pattern_pts, math.pi/2)  # for 90 deg rotation.\n",
    "        all_scores.update({'pt4': scores(target_region, pt4)})\n",
    "        \n",
    "        pt5 = t3 (pattern_pts, math.pi)  # for 180 deg rotation.\n",
    "        all_scores.update({'pt5': scores(target_region, pt5)})\n",
    "        \n",
    "        pt6 = t4 (pattern_pts, math.pi*1/2) # for pt6 rotation, reflection and translate\n",
    "        all_scores.update({'pt6': scores(target_region, pt6)})\n",
    "        \n",
    "        pt7 = t4 (pattern_pts, math.pi) # for pt7 rotation, reflect and translate\n",
    "        all_scores.update({'pt7': scores(target_region, pt7)})\n",
    "        \n",
    "        pt8 = t4 (pattern_pts, math.pi * 3/2)  # for pt8 rotation, reflect and translate\n",
    "        all_scores.update({'pt8': scores(target_region, pt8)})\n",
    "        \n",
    "        # select the transform where the score = 0\n",
    "        select = { v:k for k,v in all_scores.items()}\n",
    "        select[0] # the score will always be 0 for the selected transforms.\n",
    "\n",
    "        # get the points from the selected transformation * add the colors back to the tranformed location.\n",
    "        target_res = [(int(t1), int(t2), c) for [(t1,t2), (z, c)] in list(zip(eval(select[0]), color_pattern))]\n",
    "\n",
    "        # open a blank grid for this target_region\n",
    "\n",
    "        t_grid = np.zeros_like(pattern)\n",
    "\n",
    "        # for each point, populate the array with the color given (r,c, color)\n",
    "        for row in target_res:\n",
    "            t_grid [row[0], row[1]] = row[2]\n",
    "\n",
    "        target_grid.update ({target_region : t_grid})\n",
    "\n",
    "    #Finally put the individual target arrays back together.\n",
    "\n",
    "    final_grid = np.zeros_like(pattern)\n",
    "    final_grid += pattern\n",
    "\n",
    "    for n in target_regions:\n",
    "        final_grid += target_grid[n]\n",
    "\n",
    "    x = final_grid\n",
    "    return x\n"
   ]
  },
  {
   "cell_type": "code",
   "execution_count": 48,
   "metadata": {},
   "outputs": [
    {
     "data": {
      "text/plain": [
       "<matplotlib.image.AxesImage at 0x7f554e843690>"
      ]
     },
     "execution_count": 48,
     "metadata": {},
     "output_type": "execute_result"
    },
    {
     "data": {
      "image/png": "[encoded data removed]",
      "text/plain": [
       "<Figure size 432x288 with 1 Axes>"
      ]
     },
     "metadata": {
      "needs_background": "light"
     },
     "output_type": "display_data"
    }
   ],
   "source": [
    "final_grid = solve_36d67576(train_input[0])\n",
    "\n",
    "# check the plot with imshow\n",
    "\n",
    "plt.figure()\n",
    "plt.imshow(final_grid, cmap = cmap)\n"
   ]
  },
  {
   "cell_type": "code",
   "execution_count": null,
   "metadata": {},
   "outputs": [],
   "source": []
  },
  {
   "cell_type": "code",
   "execution_count": null,
   "metadata": {},
   "outputs": [],
   "source": []
  },
  {
   "cell_type": "code",
   "execution_count": 49,
   "metadata": {},
   "outputs": [
    {
     "data": {
      "text/plain": [
       "<matplotlib.image.AxesImage at 0x7f554e03b2d0>"
      ]
     },
     "execution_count": 49,
     "metadata": {},
     "output_type": "execute_result"
    },
    {
     "data": {
      "image/png": "[encoded data removed]",
      "text/plain": [
       "<Figure size 432x288 with 1 Axes>"
      ]
     },
     "metadata": {
      "needs_background": "light"
     },
     "output_type": "display_data"
    },
    {
     "data": {
      "image/png": "[encoded data removed]",
      "text/plain": [
       "<Figure size 432x288 with 1 Axes>"
      ]
     },
     "metadata": {
      "needs_background": "light"
     },
     "output_type": "display_data"
    },
    {
     "data": {
      "image/png": "[encoded data removed]",
      "text/plain": [
       "<Figure size 432x288 with 1 Axes>"
      ]
     },
     "metadata": {
      "needs_background": "light"
     },
     "output_type": "display_data"
    },
    {
     "data": {
      "image/png": "[encoded data removed]",
      "text/plain": [
       "<Figure size 432x288 with 1 Axes>"
      ]
     },
     "metadata": {
      "needs_background": "light"
     },
     "output_type": "display_data"
    }
   ],
   "source": [
    "plot_array(train_output)\n",
    "\n",
    "plt.figure()\n",
    "plt.imshow(test_output[0], cmap = cmap)"
   ]
  },
  {
   "cell_type": "code",
   "execution_count": null,
   "metadata": {},
   "outputs": [],
   "source": []
  },
  {
   "cell_type": "code",
   "execution_count": 52,
   "metadata": {},
   "outputs": [],
   "source": [
    "# multiple line comments\n",
    "# probably better\n"
   ]
  },
  {
   "cell_type": "code",
   "execution_count": null,
   "metadata": {},
   "outputs": [],
   "source": []
  }
 ],
 "metadata": {
  "kernelspec": {
   "display_name": "Python 3",
   "language": "python",
   "name": "python3"
  },
  "language_info": {
   "codemirror_mode": {
    "name": "ipython",
    "version": 3
   },
   "file_extension": ".py",
   "mimetype": "text/x-python",
   "name": "python",
   "nbconvert_exporter": "python",
   "pygments_lexer": "ipython3",
   "version": "3.7.6"
  }
 },
 "nbformat": 4,
 "nbformat_minor": 4
}
